{
 "cells": [
  {
   "cell_type": "markdown",
   "metadata": {},
   "source": [
    "DOC:\n",
    "https://rawg.io/apidocs\n",
    "- Count: 345727\n",
    "- Time taken: 373,744.71608‬ s = 103 hrs = 4 s\n",
    "\n",
    "\n",
    "- https://api.rawg.io/docs/\n",
    "- https://api.rawg.io/api/games\n"
   ]
  },
  {
   "cell_type": "markdown",
   "metadata": {},
   "source": [
    "## Get the list of all games with its number"
   ]
  },
  {
   "cell_type": "code",
   "execution_count": 1,
   "metadata": {},
   "outputs": [],
   "source": [
    "import json\n",
    "import requests\n",
    "from pprint import pprint\n",
    "import os\n",
    "from time import time\n",
    "import concurrent.futures\n",
    "import functools\n",
    "import os"
   ]
  },
  {
   "cell_type": "code",
   "execution_count": 6,
   "metadata": {
    "scrolled": true
   },
   "outputs": [],
   "source": [
    "headers = { 'User-Agent': 'App Name: Education purpose',}\n",
    "def request_and_cache(url, exclude, N):\n",
    "    # Run through N pages\n",
    "    for i in range(N):\n",
    "        print(url)\n",
    "        D = {}\n",
    "        json_data = json.loads(requests.get(url, headers=headers).text)\n",
    "        \n",
    "        # Get wanted data\n",
    "        for game in json_data[\"results\"]:\n",
    "            D[game[\"id\"]] = {k:v for k,v in game.items() if k not in exclude}\n",
    "            \n",
    "            # Special handler\n",
    "            D[game[\"id\"]][\"platforms\"] = []\n",
    "            for data in game[\"platforms\"]:\n",
    "                D[game[\"id\"]][\"platforms\"].append(data[\"platform\"][\"name\"])\n",
    "                \n",
    "            D[game[\"id\"]][\"genres\"] = []\n",
    "            for data in game[\"genres\"]:\n",
    "                D[game[\"id\"]][\"genres\"].append(data[\"platform\"][\"name\"])\n",
    "            \n",
    "        # Save data\n",
    "        page_no = int(url.split(\"page=\")[-1])\n",
    "        json.dump(D, open(fr\"data/{page_no}.json\", \"w\", encoding=\"utf8\"))\n",
    "        if not json_data['next']: break\n",
    "        url = json_data['next']\n",
    "    print(f\"Done from {page_no - N} to {page_no}\")\n",
    "        "
   ]
  },
  {
   "cell_type": "markdown",
   "metadata": {},
   "source": [
    "Time reduce from 4 hours to 40 minutes"
   ]
  },
  {
   "cell_type": "code",
   "execution_count": 19,
   "metadata": {},
   "outputs": [],
   "source": [
    "exclude = [\"saturated_color\", \"dominant_color\", \"parent_platforms\", \"stores\", \"clip\", \"short_screenshots\"]\n",
    "\n",
    "max_workers = 86\n",
    "step = int(17286/max_workers)\n",
    "start_number = range(1, 17286, step)\n",
    "url = \"https://api.rawg.io/api/games?page=1\"\n",
    "urls = [url[:-1] + str(i) for i in start_number]\n",
    "t0=time()\n",
    "with concurrent.futures.ThreadPoolExecutor(max_workers=max_workers) as executor:\n",
    "    temp = functools.partial(request_and_cache, exclude=exclude, N=step)\n",
    "    executor.map(temp, urls)\n",
    "print(time()-t0)"
   ]
  },
  {
   "cell_type": "markdown",
   "metadata": {},
   "source": [
    "Specific game:\n",
    "- https://api.rawg.io/api/games/rimworld\n",
    "- https://api.rawg.io/api/games/grand-theft-auto-v\n",
    "- https://rawg.io/games/grand-theft-auto-v"
   ]
  },
  {
   "cell_type": "markdown",
   "metadata": {},
   "source": [
    "## Get info of each game"
   ]
  },
  {
   "cell_type": "code",
   "execution_count": 2,
   "metadata": {
    "scrolled": true
   },
   "outputs": [
    {
     "name": "stdout",
     "output_type": "stream",
     "text": [
      "{'3498': {'id': 3498, 'slug': 'grand-theft-auto-v', 'name': 'Grand Theft Auto V', 'released': '2013-09-17', 'tba': False, 'background_image': 'https://media.rawg.io/media/games/b11/b115b2bc6a5957a917bc7601f4abdda2.jpg', 'rating': 4.47, 'rating_top': 5, 'ratings': [{'id': 5, 'title': 'exceptional', 'count': 1517, 'percent': 57.81}, {'id': 4, 'title': 'recommended', 'count': 905, 'percent': 34.49}, {'id': 3, 'title': 'meh', 'count': 163, 'percent': 6.21}, {'id': 1, 'title': 'skip', 'count': 39, 'percent': 1.49}], 'ratings_count': 2602, 'reviews_text_count': 13, 'added': 9317, 'added_by_status': {'yet': 161, 'owned': 6084, 'beaten': 2140, 'toplay': 271, 'dropped': 376, 'playing': 285}, 'metacritic': 96, 'playtime': 69, 'suggestions_count': 379, 'user_game': None, 'reviews_count': 2624, 'platforms': ['PC', 'PlayStation 4', 'PlayStation 3', 'Xbox 360', 'Xbox One'], 'genres': ['Action', 'Shooter']}, '4200': {'id': 4200, 'slug': 'portal-2', 'name': 'Portal 2', 'released': '2011-04-19', 'tba': False, 'background_image': 'https://media.rawg.io/media/games/328/3283617cb7d75d67257fc58339188742.jpg', 'rating': 4.61, 'rating_top': 5, 'ratings': [{'id': 5, 'title': 'exceptional', 'count': 1578, 'percent': 68.4}, {'id': 4, 'title': 'recommended', 'count': 629, 'percent': 27.26}, {'id': 3, 'title': 'meh', 'count': 59, 'percent': 2.56}, {'id': 1, 'title': 'skip', 'count': 41, 'percent': 1.78}], 'ratings_count': 2293, 'reviews_text_count': 9, 'added': 8230, 'added_by_status': {'yet': 212, 'owned': 5548, 'beaten': 2110, 'toplay': 108, 'dropped': 194, 'playing': 58}, 'metacritic': 95, 'playtime': 11, 'suggestions_count': 568, 'user_game': None, 'reviews_count': 2307, 'platforms': ['PlayStation 3', 'Xbox 360', 'PC', 'Linux', 'macOS'], 'genres': ['Shooter', 'Puzzle']}, '3328': {'id': 3328, 'slug': 'the-witcher-3-wild-hunt', 'name': 'The Witcher 3: Wild Hunt', 'released': '2015-05-18', 'tba': False, 'background_image': 'https://media.rawg.io/media/games/088/088b41ca3f9d22163e43be07acf42304.jpg', 'rating': 4.68, 'rating_top': 5, 'ratings': [{'id': 5, 'title': 'exceptional', 'count': 1868, 'percent': 77.48}, {'id': 4, 'title': 'recommended', 'count': 402, 'percent': 16.67}, {'id': 3, 'title': 'meh', 'count': 97, 'percent': 4.02}, {'id': 1, 'title': 'skip', 'count': 44, 'percent': 1.82}], 'ratings_count': 2386, 'reviews_text_count': 19, 'added': 7689, 'added_by_status': {'yet': 328, 'owned': 4682, 'beaten': 1651, 'toplay': 328, 'dropped': 278, 'playing': 422}, 'metacritic': 93, 'playtime': 56, 'suggestions_count': 668, 'user_game': None, 'reviews_count': 2411, 'platforms': ['PC', 'Xbox One', 'Nintendo Switch', 'PlayStation 4'], 'genres': ['RPG']}, '12020': {'id': 12020, 'slug': 'left-4-dead-2', 'name': 'Left 4 Dead 2', 'released': '2009-11-17', 'tba': False, 'background_image': 'https://media.rawg.io/media/games/c25/c25ebb8eb08790277ae2e2dce0d62174.jpg', 'rating': 4.08, 'rating_top': 4, 'ratings': [{'id': 4, 'title': 'recommended', 'count': 730, 'percent': 53.99}, {'id': 5, 'title': 'exceptional', 'count': 414, 'percent': 30.62}, {'id': 3, 'title': 'meh', 'count': 161, 'percent': 11.91}, {'id': 1, 'title': 'skip', 'count': 47, 'percent': 3.48}], 'ratings_count': 1350, 'reviews_text_count': 1, 'added': 7415, 'added_by_status': {'yet': 152, 'owned': 5847, 'beaten': 969, 'toplay': 39, 'dropped': 348, 'playing': 60}, 'metacritic': 89, 'playtime': 9, 'suggestions_count': 591, 'user_game': None, 'reviews_count': 1352, 'platforms': ['PC', 'Xbox 360'], 'genres': ['Action', 'Shooter']}, '5679': {'id': 5679, 'slug': 'the-elder-scrolls-v-skyrim', 'name': 'The Elder Scrolls V: Skyrim', 'released': '2011-11-10', 'tba': False, 'background_image': 'https://media.rawg.io/media/games/148/1485f72434101885b098d4290bf0ba67.jpg', 'rating': 4.39, 'rating_top': 5, 'ratings': [{'id': 5, 'title': 'exceptional', 'count': 1018, 'percent': 53.75}, {'id': 4, 'title': 'recommended', 'count': 662, 'percent': 34.95}, {'id': 3, 'title': 'meh', 'count': 179, 'percent': 9.45}, {'id': 1, 'title': 'skip', 'count': 35, 'percent': 1.85}], 'ratings_count': 1887, 'reviews_text_count': 3, 'added': 7380, 'added_by_status': {'yet': 160, 'owned': 5027, 'beaten': 1400, 'toplay': 134, 'dropped': 475, 'playing': 184}, 'metacritic': 94, 'playtime': 42, 'suggestions_count': 611, 'user_game': None, 'reviews_count': 1894, 'platforms': ['PC', 'PlayStation 3', 'Xbox 360', 'Nintendo Switch'], 'genres': ['Action', 'RPG']}, '802': {'id': 802, 'slug': 'borderlands-2', 'name': 'Borderlands 2', 'released': '2012-09-18', 'tba': False, 'background_image': 'https://media.rawg.io/media/games/588/588c6bdff3d4baf66ec36b1c05b793bf.jpg', 'rating': 4.09, 'rating_top': 4, 'ratings': [{'id': 4, 'title': 'recommended', 'count': 668, 'percent': 47.78}, {'id': 5, 'title': 'exceptional', 'count': 477, 'percent': 34.12}, {'id': 3, 'title': 'meh', 'count': 204, 'percent': 14.59}, {'id': 1, 'title': 'skip', 'count': 49, 'percent': 3.51}], 'ratings_count': 1396, 'reviews_text_count': 1, 'added': 7174, 'added_by_status': {'yet': 191, 'owned': 5422, 'beaten': 887, 'toplay': 77, 'dropped': 456, 'playing': 141}, 'metacritic': 89, 'playtime': 9, 'suggestions_count': 616, 'user_game': None, 'reviews_count': 1398, 'platforms': ['PC', 'PlayStation 3', 'Xbox 360', 'PlayStation 4', 'macOS', 'Xbox One'], 'genres': ['Action', 'Shooter', 'RPG']}, '13536': {'id': 13536, 'slug': 'portal', 'name': 'Portal', 'released': '2007-10-09', 'tba': False, 'background_image': 'https://media.rawg.io/media/screenshots/19d/19d3effb85e8f40d0b5b004fb5ab5c76.jpg', 'rating': 4.49, 'rating_top': 5, 'ratings': [{'id': 5, 'title': 'exceptional', 'count': 1115, 'percent': 58.9}, {'id': 4, 'title': 'recommended', 'count': 660, 'percent': 34.87}, {'id': 3, 'title': 'meh', 'count': 83, 'percent': 4.38}, {'id': 1, 'title': 'skip', 'count': 35, 'percent': 1.85}], 'ratings_count': 1890, 'reviews_text_count': 2, 'added': 6988, 'added_by_status': {'yet': 135, 'owned': 4771, 'beaten': 1890, 'toplay': 61, 'dropped': 106, 'playing': 25}, 'metacritic': 90, 'playtime': 4, 'suggestions_count': 344, 'user_game': None, 'reviews_count': 1893, 'platforms': ['Android', 'macOS', 'PC', 'Linux', 'PlayStation 3', 'Xbox 360'], 'genres': ['Action', 'Adventure', 'Puzzle']}, '3439': {'id': 3439, 'slug': 'life-is-strange-episode-1-2', 'name': 'Life is Strange', 'released': '2015-01-29', 'tba': False, 'background_image': 'https://media.rawg.io/media/games/562/562553814dd54e001a541e4ee83a591c.jpg', 'rating': 4.12, 'rating_top': 5, 'ratings': [{'id': 5, 'title': 'exceptional', 'count': 677, 'percent': 42.45}, {'id': 4, 'title': 'recommended', 'count': 609, 'percent': 38.18}, {'id': 3, 'title': 'meh', 'count': 218, 'percent': 13.67}, {'id': 1, 'title': 'skip', 'count': 91, 'percent': 5.71}], 'ratings_count': 1583, 'reviews_text_count': 10, 'added': 6979, 'added_by_status': {'yet': 305, 'owned': 4922, 'beaten': 1319, 'toplay': 114, 'dropped': 234, 'playing': 85}, 'metacritic': 83, 'playtime': 6, 'suggestions_count': 538, 'user_game': None, 'reviews_count': 1595, 'platforms': ['iOS', 'Android', 'Xbox 360', 'Linux', 'Xbox One', 'PlayStation 4', 'PC', 'macOS', 'PlayStation 3'], 'genres': ['Adventure', 'RPG']}, '4291': {'id': 4291, 'slug': 'counter-strike-global-offensive', 'name': 'Counter-Strike: Global Offensive', 'released': '2012-08-21', 'tba': False, 'background_image': 'https://media.rawg.io/media/games/ded/dedd631793c5666ffab9ef03975eb226.jpg', 'rating': 3.56, 'rating_top': 4, 'ratings': [{'id': 4, 'title': 'recommended', 'count': 622, 'percent': 47.99}, {'id': 3, 'title': 'meh', 'count': 365, 'percent': 28.16}, {'id': 5, 'title': 'exceptional', 'count': 181, 'percent': 13.97}, {'id': 1, 'title': 'skip', 'count': 128, 'percent': 9.88}], 'ratings_count': 1289, 'reviews_text_count': 6, 'added': 6918, 'added_by_status': {'yet': 85, 'owned': 5741, 'beaten': 301, 'toplay': 20, 'dropped': 547, 'playing': 224}, 'metacritic': 83, 'playtime': 62, 'suggestions_count': 603, 'user_game': None, 'reviews_count': 1296, 'platforms': ['PC', 'Xbox 360', 'PlayStation 3'], 'genres': ['Action', 'Shooter']}, '4062': {'id': 4062, 'slug': 'bioshock-infinite', 'name': 'BioShock Infinite', 'released': '2013-03-26', 'tba': False, 'background_image': 'https://media.rawg.io/media/games/fc1/fc1307a2774506b5bd65d7e8424664a7.jpg', 'rating': 4.37, 'rating_top': 5, 'ratings': [{'id': 5, 'title': 'exceptional', 'count': 968, 'percent': 54.23}, {'id': 4, 'title': 'recommended', 'count': 597, 'percent': 33.45}, {'id': 3, 'title': 'meh', 'count': 172, 'percent': 9.64}, {'id': 1, 'title': 'skip', 'count': 48, 'percent': 2.69}], 'ratings_count': 1776, 'reviews_text_count': 6, 'added': 6916, 'added_by_status': {'yet': 239, 'owned': 4530, 'beaten': 1778, 'toplay': 147, 'dropped': 178, 'playing': 44}, 'metacritic': 94, 'playtime': 12, 'suggestions_count': 560, 'user_game': None, 'reviews_count': 1785, 'platforms': ['PC', 'Linux', 'PlayStation 3', 'PlayStation 4', 'Xbox 360', 'Xbox One'], 'genres': ['Action', 'Shooter']}, '1030': {'id': 1030, 'slug': 'limbo', 'name': 'Limbo', 'released': '2010-07-21', 'tba': False, 'background_image': 'https://media.rawg.io/media/games/929/9295e55ce69cf5337c567983cf8b4137.jpeg', 'rating': 4.16, 'rating_top': 4, 'ratings': [{'id': 4, 'title': 'recommended', 'count': 754, 'percent': 52.51}, {'id': 5, 'title': 'exceptional', 'count': 501, 'percent': 34.89}, {'id': 3, 'title': 'meh', 'count': 136, 'percent': 9.47}, {'id': 1, 'title': 'skip', 'count': 45, 'percent': 3.13}], 'ratings_count': 1425, 'reviews_text_count': 10, 'added': 6647, 'added_by_status': {'yet': 228, 'owned': 4673, 'beaten': 1318, 'toplay': 104, 'dropped': 282, 'playing': 42}, 'metacritic': 88, 'playtime': 2, 'suggestions_count': 255, 'user_game': None, 'reviews_count': 1436, 'platforms': ['PC', 'iOS', 'Linux', 'macOS', 'Android', 'Xbox One', 'Xbox 360', 'PlayStation 3', 'PlayStation 4', 'Nintendo Switch', 'PS Vita'], 'genres': ['Action', 'Adventure', 'Indie', 'Puzzle', 'Platformer']}, '5286': {'id': 5286, 'slug': 'tomb-raider', 'name': 'Tomb Raider (2013)', 'released': '2013-03-05', 'tba': False, 'background_image': 'https://media.rawg.io/media/games/81b/81b138691f027ed1f8720758daa0d895.jpg', 'rating': 4.08, 'rating_top': 4, 'ratings': [{'id': 4, 'title': 'recommended', 'count': 913, 'percent': 60.26}, {'id': 5, 'title': 'exceptional', 'count': 387, 'percent': 25.54}, {'id': 3, 'title': 'meh', 'count': 189, 'percent': 12.48}, {'id': 1, 'title': 'skip', 'count': 26, 'percent': 1.72}], 'ratings_count': 1508, 'reviews_text_count': 1, 'added': 6395, 'added_by_status': {'yet': 159, 'owned': 4438, 'beaten': 1530, 'toplay': 68, 'dropped': 161, 'playing': 39}, 'metacritic': 86, 'playtime': 11, 'suggestions_count': 663, 'user_game': None, 'reviews_count': 1515, 'platforms': ['PC', 'PlayStation 3', 'Xbox 360', 'PlayStation 4', 'Xbox One', 'macOS'], 'genres': ['Action', 'Adventure']}, '13537': {'id': 13537, 'slug': 'half-life-2', 'name': 'Half-Life 2', 'released': '2004-11-16', 'tba': False, 'background_image': 'https://media.rawg.io/media/games/b8c/b8c243eaa0fbac8115e0cdccac3f91dc.jpg', 'rating': 4.47, 'rating_top': 5, 'ratings': [{'id': 5, 'title': 'exceptional', 'count': 973, 'percent': 61.43}, {'id': 4, 'title': 'recommended', 'count': 474, 'percent': 29.92}, {'id': 3, 'title': 'meh', 'count': 94, 'percent': 5.93}, {'id': 1, 'title': 'skip', 'count': 43, 'percent': 2.71}], 'ratings_count': 1581, 'reviews_text_count': 3, 'added': 6288, 'added_by_status': {'yet': 205, 'owned': 4334, 'beaten': 1464, 'toplay': 76, 'dropped': 170, 'playing': 39}, 'metacritic': 96, 'playtime': 7, 'suggestions_count': 567, 'user_game': None, 'reviews_count': 1584, 'platforms': ['Android', 'Linux', 'Xbox', 'macOS', 'PC', 'Xbox 360'], 'genres': ['Action', 'Shooter']}, '11859': {'id': 11859, 'slug': 'team-fortress-2', 'name': 'Team Fortress 2', 'released': '2007-10-10', 'tba': False, 'background_image': 'https://media.rawg.io/media/games/8e0/8e032ac4faf1136e7d708bb3ac61af23.jpg', 'rating': 3.65, 'rating_top': 4, 'ratings': [{'id': 4, 'title': 'recommended', 'count': 565, 'percent': 44.84}, {'id': 3, 'title': 'meh', 'count': 338, 'percent': 26.83}, {'id': 5, 'title': 'exceptional', 'count': 243, 'percent': 19.29}, {'id': 1, 'title': 'skip', 'count': 114, 'percent': 9.05}], 'ratings_count': 1254, 'reviews_text_count': 4, 'added': 6277, 'added_by_status': {'yet': 78, 'owned': 5150, 'beaten': 322, 'toplay': 14, 'dropped': 638, 'playing': 75}, 'metacritic': 92, 'playtime': 9, 'suggestions_count': 520, 'user_game': None, 'reviews_count': 1260, 'platforms': ['PC', 'Linux', 'macOS'], 'genres': ['Action', 'Shooter']}, '4286': {'id': 4286, 'slug': 'bioshock', 'name': 'BioShock', 'released': '2007-08-21', 'tba': False, 'background_image': 'https://media.rawg.io/media/games/bc0/bc06a29ceac58652b684deefe7d56099.jpg', 'rating': 4.38, 'rating_top': 5, 'ratings': [{'id': 5, 'title': 'exceptional', 'count': 781, 'percent': 52.38}, {'id': 4, 'title': 'recommended', 'count': 573, 'percent': 38.43}, {'id': 3, 'title': 'meh', 'count': 98, 'percent': 6.57}, {'id': 1, 'title': 'skip', 'count': 39, 'percent': 2.62}], 'ratings_count': 1481, 'reviews_text_count': 6, 'added': 6123, 'added_by_status': {'yet': 191, 'owned': 4205, 'beaten': 1315, 'toplay': 95, 'dropped': 278, 'playing': 39}, 'metacritic': 96, 'playtime': 3, 'suggestions_count': 624, 'user_game': None, 'reviews_count': 1491, 'platforms': ['PC', 'Xbox 360'], 'genres': ['Action', 'Shooter']}, '3939': {'id': 3939, 'slug': 'payday-2', 'name': 'PAYDAY 2', 'released': '2013-08-13', 'tba': False, 'background_image': 'https://media.rawg.io/media/games/73e/73eecb8909e0c39fb246f457b5d6cbbe.jpg', 'rating': 3.49, 'rating_top': 4, 'ratings': [{'id': 4, 'title': 'recommended', 'count': 449, 'percent': 50.17}, {'id': 3, 'title': 'meh', 'count': 253, 'percent': 28.27}, {'id': 1, 'title': 'skip', 'count': 99, 'percent': 11.06}, {'id': 5, 'title': 'exceptional', 'count': 94, 'percent': 10.5}], 'ratings_count': 890, 'reviews_text_count': 4, 'added': 5986, 'added_by_status': {'yet': 187, 'owned': 5043, 'beaten': 252, 'toplay': 37, 'dropped': 423, 'playing': 44}, 'metacritic': 79, 'playtime': 8, 'suggestions_count': 464, 'user_game': None, 'reviews_count': 895, 'platforms': ['PC', 'Linux', 'Xbox One'], 'genres': ['Action', 'Shooter']}, '10213': {'id': 10213, 'slug': 'dota-2', 'name': 'Dota 2', 'released': '2013-07-09', 'tba': False, 'background_image': 'https://media.rawg.io/media/games/83f/83f6f70a7c1b86cd2637b029d8b42caa.jpg', 'rating': 3.08, 'rating_top': 3, 'ratings': [{'id': 3, 'title': 'meh', 'count': 370, 'percent': 31.76}, {'id': 4, 'title': 'recommended', 'count': 339, 'percent': 29.1}, {'id': 1, 'title': 'skip', 'count': 289, 'percent': 24.81}, {'id': 5, 'title': 'exceptional', 'count': 167, 'percent': 14.33}], 'ratings_count': 1153, 'reviews_text_count': 12, 'added': 5925, 'added_by_status': {'yet': 90, 'owned': 4866, 'beaten': 157, 'toplay': 9, 'dropped': 625, 'playing': 178}, 'metacritic': 90, 'playtime': 14, 'suggestions_count': 371, 'user_game': None, 'reviews_count': 1165, 'platforms': ['Linux', 'PC', 'macOS'], 'genres': ['Action']}, '4459': {'id': 4459, 'slug': 'grand-theft-auto-iv', 'name': 'Grand Theft Auto IV', 'released': '2008-04-29', 'tba': False, 'background_image': 'https://media.rawg.io/media/games/4a0/4a0a1316102366260e6f38fd2a9cfdce.jpg', 'rating': 4.23, 'rating_top': 4, 'ratings': [{'id': 4, 'title': 'recommended', 'count': 520, 'percent': 46.26}, {'id': 5, 'title': 'exceptional', 'count': 458, 'percent': 40.75}, {'id': 3, 'title': 'meh', 'count': 119, 'percent': 10.59}, {'id': 1, 'title': 'skip', 'count': 27, 'percent': 2.4}], 'ratings_count': 1117, 'reviews_text_count': 5, 'added': 5726, 'added_by_status': {'yet': 107, 'owned': 4175, 'beaten': 984, 'toplay': 65, 'dropped': 355, 'playing': 40}, 'metacritic': 90, 'playtime': 9, 'suggestions_count': 479, 'user_game': None, 'reviews_count': 1124, 'platforms': ['PC', 'PlayStation 3', 'Xbox 360'], 'genres': ['Action', 'Adventure']}, '3070': {'id': 3070, 'slug': 'fallout-4', 'name': 'Fallout 4', 'released': '2015-11-09', 'tba': False, 'background_image': 'https://media.rawg.io/media/games/c88/c885ae6a24bbce21df93b6c4e1c78899.jpg', 'rating': 3.7, 'rating_top': 4, 'ratings': [{'id': 4, 'title': 'recommended', 'count': 624, 'percent': 46.12}, {'id': 3, 'title': 'meh', 'count': 391, 'percent': 28.9}, {'id': 5, 'title': 'exceptional', 'count': 251, 'percent': 18.55}, {'id': 1, 'title': 'skip', 'count': 87, 'percent': 6.43}], 'ratings_count': 1341, 'reviews_text_count': 7, 'added': 5669, 'added_by_status': {'yet': 188, 'owned': 3858, 'beaten': 803, 'toplay': 143, 'dropped': 515, 'playing': 162}, 'metacritic': 84, 'playtime': 48, 'suggestions_count': 414, 'user_game': None, 'reviews_count': 1353, 'platforms': ['PC', 'Xbox One', 'PlayStation 4'], 'genres': ['Action', 'RPG']}, '2454': {'id': 2454, 'slug': 'doom', 'name': 'DOOM (2016)', 'released': '2016-05-13', 'tba': False, 'background_image': 'https://media.rawg.io/media/games/c4b/c4b0cab189e73432de3a250d8cf1c84e.jpg', 'rating': 4.38, 'rating_top': 5, 'ratings': [{'id': 5, 'title': 'exceptional', 'count': 800, 'percent': 52.46}, {'id': 4, 'title': 'recommended', 'count': 584, 'percent': 38.3}, {'id': 3, 'title': 'meh', 'count': 100, 'percent': 6.56}, {'id': 1, 'title': 'skip', 'count': 41, 'percent': 2.69}], 'ratings_count': 1511, 'reviews_text_count': 8, 'added': 5421, 'added_by_status': {'yet': 195, 'owned': 3617, 'beaten': 983, 'toplay': 224, 'dropped': 244, 'playing': 158}, 'metacritic': 85, 'playtime': 11, 'suggestions_count': 658, 'user_game': None, 'reviews_count': 1525, 'platforms': ['PC', 'Nintendo Switch', 'PlayStation 4', 'Xbox One'], 'genres': ['Action', 'Shooter']}}\n"
     ]
    }
   ],
   "source": [
    "import os\n",
    "import json\n",
    "for file in os.listdir(\"data/\"):\n",
    "    json_data = json.load(open(f\"data/{file}\", \"r\"))\n",
    "    print(json_data)\n",
    "    break"
   ]
  },
  {
   "cell_type": "code",
   "execution_count": 2,
   "metadata": {},
   "outputs": [],
   "source": [
    "urls = (\"https://api.rawg.io/api/games/grand-theft-auto-v\", \"https://api.rawg.io/api/games/rimworld\")\n",
    "\n",
    "headers = { 'User-Agent': 'App Name: Education purpose',}\n",
    "\n",
    "include = {\"id\",\n",
    "           \"slug\",\n",
    "           \"name\",\n",
    "           \"metacritic\",\n",
    "           \"released\",\n",
    "           \"tba\",\n",
    "           \"rating\",\n",
    "           \"rating_top\",\n",
    "#            \"ratings\",\n",
    "           \"added\",\n",
    "           \"added_by_status\",\n",
    "           \"playtime\",\n",
    "           \"reddit_count\",\n",
    "           \"twitch_count\",\n",
    "           \"youtube_count\",\n",
    "           \"ratings_count\",\n",
    "           \"suggestions_count\",\n",
    "           \"game_series_count\",\n",
    "           \"reviews_count\",\n",
    "           \"platforms\",\n",
    "           \"developers\",\n",
    "           \"genres\",\n",
    "           \"tags\",\n",
    "           \"publishers\",\n",
    "           \"esrb_rating\",\n",
    "           }\n",
    "for url in urls:\n",
    "    D = {}\n",
    "    json_data = json.loads(requests.get(url, headers=headers).text)\n",
    "    \n",
    "    D = {k:v for k,v in json_data.items() if k in include}\n",
    "    \n",
    "    D[\"platforms\"] = []\n",
    "    for platform in json_data[\"platforms\"]:\n",
    "        D[\"platforms\"].append(platform[\"platform\"][\"name\"])\n",
    "    \n",
    "    \n",
    "    for key in (\"developers\", \"genres\", \"tags\", \"publishers\"):\n",
    "        D[key] = []\n",
    "        for data in json_data[key]:\n",
    "            D[key].append(data[\"name\"])\n",
    "    \n",
    "    name = D[\"id\"]\n",
    "    json.dump(D, open(f\"data/{name}.json\",\"w\", encoding=\"utf-8\"))\n"
   ]
  }
 ],
 "metadata": {
  "kernelspec": {
   "display_name": "Python 3",
   "language": "python",
   "name": "python3"
  },
  "language_info": {
   "codemirror_mode": {
    "name": "ipython",
    "version": 3
   },
   "file_extension": ".py",
   "mimetype": "text/x-python",
   "name": "python",
   "nbconvert_exporter": "python",
   "pygments_lexer": "ipython3",
   "version": "3.7.3"
  }
 },
 "nbformat": 4,
 "nbformat_minor": 4
}
